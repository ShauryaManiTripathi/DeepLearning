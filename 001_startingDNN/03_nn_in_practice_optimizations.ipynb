{
 "cells": [
  {
   "cell_type": "markdown",
   "metadata": {},
   "source": [
    "Training is hard, optimization is totally different story"
   ]
  },
  {
   "cell_type": "markdown",
   "metadata": {},
   "source": [
    "computationally its too hard\n",
    "<a href=\"https://ibb.co/1GZVm5s\"><img src=\"https://i.ibb.co/k2KnSf3/image.png\" alt=\"image\" border=\"0\"></a>\n"
   ]
  },
  {
   "cell_type": "markdown",
   "metadata": {},
   "source": [
    "u start in bad place, u dead\n",
    "## To solve this\n",
    "- we can do some optimization technique to traverse the local minimas to global minima\n",
    "- make nn which has good landscape, which are more smoother\n",
    "## $n$ is the learning rate which also needs proper tuning\n",
    "- if its too small , it can get stuck in local minimas/ false local minima\n",
    "- if its too big, it overshoots the global minima\n",
    "- so we need to tune it properly, i.e. stable learning rate, ( which can overshoot local minima, but finds global minima )\n",
    "\n",
    "# billions of dimension and each dimension of W from (-inf, inf), so its not restricted and too hard to work bith , in BIG Models\n",
    "\n",
    "## soluton for learning rates\n",
    "- hit and trial\n",
    "- design a adaptive learning rate that adapts to the landscape\n",
    "\n",
    "Adaptive Learning Rates\n",
    "- Learning rates are no longer fixed\n",
    "- Can be made larger or smaller depending on:\n",
    "- how large gradient is\n",
    "- how fast learning is happening\n",
    "- size of particular weights\n",
    "- etc..."
   ]
  },
  {
   "cell_type": "markdown",
   "metadata": {},
   "source": [
    "## Gradient descent algorithms\n",
    "- Adagrad\n",
    "- RMSprop\n",
    "- Adam\n",
    "- Adadelta\n",
    "- SGD(Stochastic Gradient Descent)\n",
    "- etc...\n"
   ]
  },
  {
   "cell_type": "code",
   "execution_count": null,
   "metadata": {},
   "outputs": [],
   "source": [
    "import tensorflow as tf\n",
    "\n",
    "tf.keras.optimizers.SGD\n",
    "tf.keras.optimizers.Adam\n",
    "tf.keras.optimizers.RMSprop\n",
    "tf.keras.optimizers.Adagrad\n",
    "tf.keras.optimizers.Adadelta\n",
    "tf.keras.optimizers.Adamax\n",
    "tf.keras.optimizers.Nadam\n",
    "tf.keras.optimizers.Ftrl\n",
    "tf.keras.optimizers.Optimizer#(for class inheritance)"
   ]
  },
  {
   "cell_type": "markdown",
   "metadata": {},
   "source": [
    "Reference\n",
    "Kiefer & Wolfowitz. \"Stochastic Estimation of the\n",
    "Maximum of a Regression Function.\" 1952.<br>\n",
    "Kingma et al. \"Adam: A Method for Stochastic\n",
    "Optimization.\" 2014.<br>\n",
    "Zeiler et al.\"ADADELTA: An Adaptive Learning Rate\n",
    "Method.\" 2012.<br>\n",
    "Duchi et al. \"Adaptive Subgradient Methods for Online\n",
    "Learning and Stochastic Optimization.\" 20 1 1."
   ]
  },
  {
   "cell_type": "markdown",
   "metadata": {},
   "source": [
    "Additional details: http://ruderio/optimizing-gradient-descent/"
   ]
  },
  {
   "cell_type": "code",
   "execution_count": 2,
   "metadata": {},
   "outputs": [
    {
     "name": "stdout",
     "output_type": "stream",
     "text": [
      "Epoch 10/100, Loss: 0.6732\n",
      "Epoch 20/100, Loss: 0.6340\n",
      "Epoch 30/100, Loss: 0.5608\n",
      "Epoch 40/100, Loss: 0.4488\n",
      "Epoch 50/100, Loss: 0.3320\n",
      "Epoch 60/100, Loss: 0.2469\n",
      "Epoch 70/100, Loss: 0.1922\n",
      "Epoch 80/100, Loss: 0.1575\n",
      "Epoch 90/100, Loss: 0.1358\n",
      "Epoch 100/100, Loss: 0.1183\n",
      "\n",
      "Final accuracy: 0.5000\n"
     ]
    }
   ],
   "source": [
    "import tensorflow as tf\n",
    "import numpy as np\n",
    "\n",
    "# Generate some sample data\n",
    "np.random.seed(42)\n",
    "X = np.random.rand(1000, 2)\n",
    "y = (X[:, 0] + X[:, 1] > 1).astype(float)\n",
    "X = tf.convert_to_tensor(X, dtype=tf.float32)\n",
    "y = tf.convert_to_tensor(y, dtype=tf.float32)\n",
    "\n",
    "# Create a simple model\n",
    "model = tf.keras.Sequential([\n",
    "    tf.keras.layers.Dense(16, activation='relu'),\n",
    "    tf.keras.layers.Dense(8, activation='relu'),\n",
    "    tf.keras.layers.Dense(1, activation='sigmoid')\n",
    "])\n",
    "\n",
    "# Define optimizer\n",
    "optimizer = tf.keras.optimizers.SGD(learning_rate=0.01)\n",
    "\n",
    "# Define loss function\n",
    "def compute_loss(y_true, y_pred):\n",
    "    return tf.reduce_mean(tf.keras.losses.binary_crossentropy(y_true, y_pred))\n",
    "\n",
    "# Training loop\n",
    "num_epochs = 100\n",
    "batch_size = 32\n",
    "num_batches = len(X) // batch_size\n",
    "\n",
    "for epoch in range(num_epochs):\n",
    "    total_loss = 0\n",
    "    \n",
    "    # Create batches\n",
    "    indices = tf.random.shuffle(tf.range(len(X)))\n",
    "    X_shuffled = tf.gather(X, indices)\n",
    "    y_shuffled = tf.gather(y, indices)\n",
    "    \n",
    "    for batch in range(num_batches):\n",
    "        # Get batch data\n",
    "        start_idx = batch * batch_size\n",
    "        end_idx = start_idx + batch_size\n",
    "        X_batch = X_shuffled[start_idx:end_idx]\n",
    "        y_batch = y_shuffled[start_idx:end_idx]\n",
    "        y_batch = tf.reshape(y_batch, (len(y_batch), 1))\n",
    "        \n",
    "        # Training step\n",
    "        with tf.GradientTape() as tape:\n",
    "            # Forward pass\n",
    "            predictions = model(X_batch)\n",
    "            # Compute loss\n",
    "            loss = compute_loss(y_batch, predictions)\n",
    "        \n",
    "        # Compute gradients\n",
    "        gradients = tape.gradient(loss, model.trainable_variables)\n",
    "        # Update weights\n",
    "        optimizer.apply_gradients(zip(gradients, model.trainable_variables))\n",
    "        \n",
    "        total_loss += loss\n",
    "    \n",
    "    # Print progress every 10 epochs\n",
    "    if (epoch + 1) % 10 == 0:\n",
    "        print(f\"Epoch {epoch + 1}/{num_epochs}, Loss: {total_loss/num_batches:.4f}\")\n",
    "\n",
    "# Test the model\n",
    "test_predictions = model(X)\n",
    "accuracy = tf.reduce_mean(tf.cast(tf.equal(tf.round(test_predictions), y), tf.float32))\n",
    "print(f\"\\nFinal accuracy: {accuracy:.4f}\")"
   ]
  }
 ],
 "metadata": {
  "kernelspec": {
   "display_name": "CPU2",
   "language": "python",
   "name": "python3"
  },
  "language_info": {
   "codemirror_mode": {
    "name": "ipython",
    "version": 3
   },
   "file_extension": ".py",
   "mimetype": "text/x-python",
   "name": "python",
   "nbconvert_exporter": "python",
   "pygments_lexer": "ipython3",
   "version": "3.12.7"
  }
 },
 "nbformat": 4,
 "nbformat_minor": 2
}
