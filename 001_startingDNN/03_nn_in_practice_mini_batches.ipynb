{
 "cells": [
  {
   "cell_type": "markdown",
   "metadata": {},
   "source": [
    "# Covered in 03_nn_in_practice_optimizations.ipynb"
   ]
  },
  {
   "cell_type": "markdown",
   "metadata": {},
   "source": [
    "# contents\n",
    "- about optimizatins in practice\n",
    "- about mini batches in practice\n",
    "- about overfitting in practice\n",
    "    - when the results are not generalized on unseen data\n",
    "- about regularization in practice\n",
    "- about dropout in practice\n",
    "- about data augmentation in practice\n",
    "- about learning rate scheduling in practice\n",
    "- about batch normalization in practice\n",
    "- about transfer learning in practice\n",
    "- about summary\n"
   ]
  }
 ],
 "metadata": {
  "language_info": {
   "name": "python"
  }
 },
 "nbformat": 4,
 "nbformat_minor": 2
}
