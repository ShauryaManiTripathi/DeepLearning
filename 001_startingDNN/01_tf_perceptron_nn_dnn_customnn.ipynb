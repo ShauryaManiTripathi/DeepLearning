{
 "cells": [
  {
   "cell_type": "markdown",
   "metadata": {},
   "source": [
    "\n",
    "<center><svg width=\"300\" height=\"250\" xmlns=\"http://www.w3.org/2000/svg\">\n",
    "  <style>\n",
    "    .node { fill: #4A90E2; stroke: #000; stroke-width: 2; }\n",
    "    .hidden { fill: #7ED321; }\n",
    "    .output { fill: #D0021B; }\n",
    "    .text { font: 14px sans-serif; fill: #fff; text-anchor: middle; }\n",
    "    .line { stroke: #000; stroke-width: 1; }\n",
    "  </style>\n",
    "\n",
    "  <!-- Input Layer -->\n",
    "  <circle cx=\"50\" cy=\"50\" r=\"20\" class=\"node\" />\n",
    "  <text x=\"50\" y=\"55\" class=\"text\">I1</text>\n",
    "  \n",
    "  <circle cx=\"50\" cy=\"150\" r=\"20\" class=\"node\" />\n",
    "  <text x=\"50\" y=\"155\" class=\"text\">I2</text>\n",
    "\n",
    "  <!-- Hidden Layer -->\n",
    "  <circle cx=\"150\" cy=\"100\" r=\"20\" class=\"node hidden\" />\n",
    "  <text x=\"150\" y=\"105\" class=\"text\">W</text>\n",
    "\n",
    "  <!-- Output Layer -->\n",
    "  <circle cx=\"250\" cy=\"100\" r=\"20\" class=\"node output\" />\n",
    "  <text x=\"250\" y=\"105\" class=\"text\">G</text>\n",
    "\n",
    "  <!-- Connections -->\n",
    "  <line x1=\"70\" y1=\"50\" x2=\"130\" y2=\"100\" class=\"line\" />\n",
    "  <line x1=\"70\" y1=\"150\" x2=\"130\" y2=\"100\" class=\"line\" />\n",
    "  <line x1=\"170\" y1=\"100\" x2=\"230\" y2=\"100\" class=\"line\" />\n",
    "</svg>\n",
    "</center>\n",
    "\n",
    "## $$y = g\\left(w_0 + \\mathbf{X}^T \\mathbf{W}\\right)$$\n",
    "### <font color = \"cyan\">$$\\mathbf{X}^T \\mathbf{W} = \\begin{bmatrix} x_1 & x_2 & \\ldots & x_n \\end{bmatrix} \\begin{bmatrix} w_1 \\\\ w_2 \\\\\\vdots \\\\ w_n \\end{bmatrix} = x_1 w_1 + x_2 w_2 + \\ldots + x_n w_n$$</font>\n",
    "### $$ y = g(w_0 + x_1 w_1 + x_2 w_2 + \\ldots + x_n w_n) $$\n",
    "\n",
    "### <font face=\"JetBrains Mono\" color=\"white\"><center>the line generates a hyperdimensional plane, for classification<br> which is then used by <span style=\"color: cyan;\">Non-Linear </span>activation function </font></center>\n",
    "\n",
    "$$\n",
    "\\begin{align*}\n",
    "{basic\\ activation\\ functions} \\\\\n",
    "\\sigma(x) &= \\frac{1}{1 + e^{-x}} \\\\\n",
    "\\text{ReLU}(x) &= \\max(0, x) \\\\\n",
    "\\tanh(x) &= \\frac{e^{x} - e^{-x}}{e^{x} + e^{-x}}\n",
    "\\end{align*}\n",
    "$$\n",
    "\n",
    "\n",
    "\n"
   ]
  },
  {
   "cell_type": "code",
   "execution_count": 4,
   "metadata": {},
   "outputs": [
    {
     "name": "stdout",
     "output_type": "stream",
     "text": [
      "tf.Tensor(0.5, shape=(), dtype=float32)\n",
      "tf.Tensor(0.0, shape=(), dtype=float32)\n",
      "tf.Tensor(0.0, shape=(), dtype=float32)\n"
     ]
    }
   ],
   "source": [
    "import tensorflow as tf\n",
    "\n",
    "#basic structure of a perceptron\n",
    "\n",
    "#input(s)_>corresponding weight(s) and bias>activation function_>output\n",
    "#the perceptron is a single layer neural network\n",
    "#it is the simplest form of a neural network\n",
    "#types of perceptrons\n",
    "#1. single layer perceptron\n",
    "#2. multi layer perceptron\n",
    "\n",
    "#types on the basis of input and output\n",
    "#1. single input single output\n",
    "#2. single input multiple output\n",
    "#3. multiple input single output\n",
    "#4. multiple input multiple output\n",
    "#5. binary input binary output\n",
    "#6. binary input multiple output\n",
    "#7. multiple input binary output\n",
    "\n",
    "#weights and bias are the parameters that the model learns\n",
    "x=0.0\n",
    "#four types of activation functions\n",
    "#2. sigmoid function\n",
    "print(tf.math.sigmoid(x))\n",
    "#3. rectified linear unit (ReLU)\n",
    "print(tf.nn.relu(x))\n",
    "#4. hyperbolic tangent function (tanh)\n",
    "print(tf.math.tanh(x))\n",
    "\n",
    "\n",
    "\n",
    "# // ! the most popular is the Relu(rectified linear unit) function\n",
    "# it is used because of 2 factors-\n",
    "#1. it is computationally efficient\n",
    "#2. it is non-linear ( we need non-linear activation functions, we will learn why)"
   ]
  },
  {
   "cell_type": "markdown",
   "metadata": {},
   "source": [
    "<font face=\"JetBrains Mono\" color=\"white\" size=\"4\">\n",
    "## Multi Output Perceptron Diagram\n",
    "\n",
    "<svg width=\"400\" height=\"300\" xmlns=\"http://www.w3.org/2000/svg\">\n",
    "  <style>\n",
    "    .node { fill: #4A90E2; stroke: #000; stroke-width: 2; }\n",
    "    .hidden { fill: #7ED321; }\n",
    "    .output { fill: #D0021B; }\n",
    "    .text { font: 14px sans-serif; fill: #fff; text-anchor: middle; }\n",
    "    .line { stroke: #000; stroke-width: 1; }\n",
    "  </style>\n",
    "\n",
    "  <!-- Input Layer -->\n",
    "  <circle cx=\"50\" cy=\"50\" r=\"20\" class=\"node\" />\n",
    "  <text x=\"50\" y=\"55\" class=\"text\">X1</text>\n",
    "  \n",
    "  <circle cx=\"50\" cy=\"150\" r=\"20\" class=\"node\" />\n",
    "  <text x=\"50\" y=\"155\" class=\"text\">X2</text>\n",
    "  \n",
    "  <circle cx=\"50\" cy=\"250\" r=\"20\" class=\"node\" />\n",
    "  <text x=\"50\" y=\"255\" class=\"text\">X3</text>\n",
    "  \n",
    "  <!-- Hidden Layer -->\n",
    "  <circle cx=\"150\" cy=\"100\" r=\"20\" class=\"node hidden\" />\n",
    "  <text x=\"150\" y=\"105\" class=\"text\">W1</text>\n",
    "  \n",
    "  <circle cx=\"150\" cy=\"200\" r=\"20\" class=\"node hidden\" />\n",
    "  <text x=\"150\" y=\"205\" class=\"text\">W2</text>\n",
    "\n",
    "  <!-- Output Layer -->\n",
    "  <circle cx=\"300\" cy=\"100\" r=\"20\" class=\"node output\" />\n",
    "  <text x=\"300\" y=\"105\" class=\"text\">G1</text>\n",
    "  \n",
    "  <circle cx=\"300\" cy=\"200\" r=\"20\" class=\"node output\" />\n",
    "  <text x=\"300\" y=\"205\" class=\"text\">G2</text>\n",
    "\n",
    "  <!-- Connections -->\n",
    "  <line x1=\"70\" y1=\"50\" x2=\"130\" y2=\"100\" class=\"line\" />\n",
    "  <line x1=\"70\" y1=\"50\" x2=\"130\" y2=\"200\" class=\"line\" />\n",
    "  \n",
    "  <line x1=\"70\" y1=\"150\" x2=\"130\" y2=\"100\" class=\"line\" />\n",
    "  <line x1=\"70\" y1=\"150\" x2=\"130\" y2=\"200\" class=\"line\" />\n",
    "  \n",
    "  <line x1=\"70\" y1=\"250\" x2=\"130\" y2=\"100\" class=\"line\" />\n",
    "  <line x1=\"70\" y1=\"250\" x2=\"130\" y2=\"200\" class=\"line\" />\n",
    "  \n",
    "  <line x1=\"170\" y1=\"100\" x2=\"270\" y2=\"100\" class=\"line\" />\n",
    "  <line x1=\"170\" y1=\"200\" x2=\"270\" y2=\"200\" class=\"line\" />\n",
    "</svg>\n",
    "\n",
    "A multi-output perceptron can be represented as follows:\n",
    "\n",
    "$$\n",
    "\\begin{array}{c}\n",
    "\\text{Input Layer} \\\\\n",
    "\\begin{bmatrix}\n",
    "x_1 \\\\\n",
    "x_2 \\\\\n",
    "\\vdots \\\\\n",
    "x_n\n",
    "\\end{bmatrix}\n",
    "\\end{array}\n",
    "\\rightarrow\n",
    "\\begin{array}{c}\n",
    "\\text{Weights} \\\\\n",
    "\\begin{bmatrix}\n",
    "w_{11} & w_{12} & \\cdots & w_{1m} \\\\\n",
    "w_{21} & w_{22} & \\cdots & w_{2m} \\\\\n",
    "\\vdots & \\vdots & \\ddots & \\vdots \\\\\n",
    "w_{n1} & w_{n2} & \\cdots & w_{nm}\n",
    "\\end{bmatrix}\n",
    "\\end{array}\n",
    "\\rightarrow\n",
    "\\begin{array}{c}\n",
    "\\text{Output Layer} \\\\\n",
    "\\begin{bmatrix}\n",
    "y_1 \\\\\n",
    "y_2 \\\\\n",
    "\\vdots \\\\\n",
    "y_m\n",
    "\\end{bmatrix}\n",
    "\\end{array}\n",
    "$$\n",
    "\n",
    "Where:\n",
    "- \\( $ x_i $\\) are the input features.\n",
    "- \\( $ w_{ij} $ \\) are the weights connecting the \\($ i $\\)-th input to the \\($ j $\\)-th output.\n",
    "- \\( $ y_j $ \\) are the outputs.\n",
    "\n",
    "The output for each node in the output layer is calculated as:\n",
    "\n",
    "$$\n",
    "y_j = g\\left(\\sum_{i=1}^{n} x_i w_{ij} + w_{0j}\\right)\n",
    "$$\n",
    "\n",
    "Where:\n",
    "- \\($ g $\\) is the activation function.\n",
    "- \\($ b_j $\\) is the bias term for the \\($ j $\\)-th output node.\\\n",
    "</font>\n"
   ]
  },
  {
   "cell_type": "code",
   "execution_count": 5,
   "metadata": {},
   "outputs": [],
   "source": [
    "# designing our own perceptron class\n",
    "# in multi perceptron, because all inputs are densely connected to all output, this layers are called dense layers\n",
    "\n",
    "# designing dense layer froms scratch\n",
    "\n",
    "import tensorflow as tf\n",
    "\n",
    "class MyDenseLayer(tf.keras.layers.Layer):\n",
    "    def __init__(self,input_dimension,output_dimension):\n",
    "        super(MyDenseLayer,self).__init__()\n",
    "\n",
    "        # initializing weights\n",
    "\n",
    "        self.W=self.add_weight([input_dimension,output_dimension])\n",
    "        self.b=self.add_weight([1,output_dimension])\n",
    "\n",
    "    def call(self,inputs):\n",
    "        # forward propogate the inputs\n",
    "        z=tf.matmul(inputs,self.W)+self.b\n",
    "\n",
    "        # feed through a non-linear activation function\n",
    "        output=tf.math.sigmoid(z)\n",
    "\n",
    "        return output\n",
    "    \n",
    "# the alternative of above code in one line tf implementation is as follows\n",
    "layer = tf.keras.layers.Dense(units=2) # there are more optional params to this layer"
   ]
  },
  {
   "cell_type": "markdown",
   "metadata": {},
   "source": [
    "![Alt text](https://i.ibb.co/YfHhFwL/image.png)</br>\n",
    "is the above image single layered?, yes because hidden layers are called as layer here\n",
    "\n",
    "\n",
    "<a href=\"https://ibb.co/8x99Qwk\"><img src=\"https://i.ibb.co/jwDDjYt/image.png\" alt=\"image\" border=\"0\"></a>\n",
    "</br> each box denotes a fully connected perceptron layer, i.e. all inputs are connected to all outputs"
   ]
  },
  {
   "cell_type": "code",
   "execution_count": 10,
   "metadata": {},
   "outputs": [
    {
     "data": {
      "text/html": [
       "<pre style=\"white-space:pre;overflow-x:auto;line-height:normal;font-family:Menlo,'DejaVu Sans Mono',consolas,'Courier New',monospace\"><span style=\"font-weight: bold\">Model: \"sequential_7\"</span>\n",
       "</pre>\n"
      ],
      "text/plain": [
       "\u001b[1mModel: \"sequential_7\"\u001b[0m\n"
      ]
     },
     "metadata": {},
     "output_type": "display_data"
    },
    {
     "data": {
      "text/html": [
       "<pre style=\"white-space:pre;overflow-x:auto;line-height:normal;font-family:Menlo,'DejaVu Sans Mono',consolas,'Courier New',monospace\">┏━━━━━━━━━━━━━━━━━━━━━━━━━━━━━━━━━┳━━━━━━━━━━━━━━━━━━━━━━━━┳━━━━━━━━━━━━━━━┓\n",
       "┃<span style=\"font-weight: bold\"> Layer (type)                    </span>┃<span style=\"font-weight: bold\"> Output Shape           </span>┃<span style=\"font-weight: bold\">       Param # </span>┃\n",
       "┡━━━━━━━━━━━━━━━━━━━━━━━━━━━━━━━━━╇━━━━━━━━━━━━━━━━━━━━━━━━╇━━━━━━━━━━━━━━━┩\n",
       "│ dense_21 (<span style=\"color: #0087ff; text-decoration-color: #0087ff\">Dense</span>)                │ ?                      │   <span style=\"color: #00af00; text-decoration-color: #00af00\">0</span> (unbuilt) │\n",
       "├─────────────────────────────────┼────────────────────────┼───────────────┤\n",
       "│ dense_22 (<span style=\"color: #0087ff; text-decoration-color: #0087ff\">Dense</span>)                │ ?                      │   <span style=\"color: #00af00; text-decoration-color: #00af00\">0</span> (unbuilt) │\n",
       "└─────────────────────────────────┴────────────────────────┴───────────────┘\n",
       "</pre>\n"
      ],
      "text/plain": [
       "┏━━━━━━━━━━━━━━━━━━━━━━━━━━━━━━━━━┳━━━━━━━━━━━━━━━━━━━━━━━━┳━━━━━━━━━━━━━━━┓\n",
       "┃\u001b[1m \u001b[0m\u001b[1mLayer (type)                   \u001b[0m\u001b[1m \u001b[0m┃\u001b[1m \u001b[0m\u001b[1mOutput Shape          \u001b[0m\u001b[1m \u001b[0m┃\u001b[1m \u001b[0m\u001b[1m      Param #\u001b[0m\u001b[1m \u001b[0m┃\n",
       "┡━━━━━━━━━━━━━━━━━━━━━━━━━━━━━━━━━╇━━━━━━━━━━━━━━━━━━━━━━━━╇━━━━━━━━━━━━━━━┩\n",
       "│ dense_21 (\u001b[38;5;33mDense\u001b[0m)                │ ?                      │   \u001b[38;5;34m0\u001b[0m (unbuilt) │\n",
       "├─────────────────────────────────┼────────────────────────┼───────────────┤\n",
       "│ dense_22 (\u001b[38;5;33mDense\u001b[0m)                │ ?                      │   \u001b[38;5;34m0\u001b[0m (unbuilt) │\n",
       "└─────────────────────────────────┴────────────────────────┴───────────────┘\n"
      ]
     },
     "metadata": {},
     "output_type": "display_data"
    },
    {
     "data": {
      "text/html": [
       "<pre style=\"white-space:pre;overflow-x:auto;line-height:normal;font-family:Menlo,'DejaVu Sans Mono',consolas,'Courier New',monospace\"><span style=\"font-weight: bold\"> Total params: </span><span style=\"color: #00af00; text-decoration-color: #00af00\">0</span> (0.00 B)\n",
       "</pre>\n"
      ],
      "text/plain": [
       "\u001b[1m Total params: \u001b[0m\u001b[38;5;34m0\u001b[0m (0.00 B)\n"
      ]
     },
     "metadata": {},
     "output_type": "display_data"
    },
    {
     "data": {
      "text/html": [
       "<pre style=\"white-space:pre;overflow-x:auto;line-height:normal;font-family:Menlo,'DejaVu Sans Mono',consolas,'Courier New',monospace\"><span style=\"font-weight: bold\"> Trainable params: </span><span style=\"color: #00af00; text-decoration-color: #00af00\">0</span> (0.00 B)\n",
       "</pre>\n"
      ],
      "text/plain": [
       "\u001b[1m Trainable params: \u001b[0m\u001b[38;5;34m0\u001b[0m (0.00 B)\n"
      ]
     },
     "metadata": {},
     "output_type": "display_data"
    },
    {
     "data": {
      "text/html": [
       "<pre style=\"white-space:pre;overflow-x:auto;line-height:normal;font-family:Menlo,'DejaVu Sans Mono',consolas,'Courier New',monospace\"><span style=\"font-weight: bold\"> Non-trainable params: </span><span style=\"color: #00af00; text-decoration-color: #00af00\">0</span> (0.00 B)\n",
       "</pre>\n"
      ],
      "text/plain": [
       "\u001b[1m Non-trainable params: \u001b[0m\u001b[38;5;34m0\u001b[0m (0.00 B)\n"
      ]
     },
     "metadata": {},
     "output_type": "display_data"
    },
    {
     "data": {
      "text/html": [
       "<pre style=\"white-space:pre;overflow-x:auto;line-height:normal;font-family:Menlo,'DejaVu Sans Mono',consolas,'Courier New',monospace\"><span style=\"font-weight: bold\">Model: \"sequential_8\"</span>\n",
       "</pre>\n"
      ],
      "text/plain": [
       "\u001b[1mModel: \"sequential_8\"\u001b[0m\n"
      ]
     },
     "metadata": {},
     "output_type": "display_data"
    },
    {
     "data": {
      "text/html": [
       "<pre style=\"white-space:pre;overflow-x:auto;line-height:normal;font-family:Menlo,'DejaVu Sans Mono',consolas,'Courier New',monospace\">┏━━━━━━━━━━━━━━━━━━━━━━━━━━━━━━━━━┳━━━━━━━━━━━━━━━━━━━━━━━━┳━━━━━━━━━━━━━━━┓\n",
       "┃<span style=\"font-weight: bold\"> Layer (type)                    </span>┃<span style=\"font-weight: bold\"> Output Shape           </span>┃<span style=\"font-weight: bold\">       Param # </span>┃\n",
       "┡━━━━━━━━━━━━━━━━━━━━━━━━━━━━━━━━━╇━━━━━━━━━━━━━━━━━━━━━━━━╇━━━━━━━━━━━━━━━┩\n",
       "│ my_dense_layer_3 (<span style=\"color: #0087ff; text-decoration-color: #0087ff\">MyDenseLayer</span>) │ ?                      │   <span style=\"color: #00af00; text-decoration-color: #00af00\">0</span> (unbuilt) │\n",
       "├─────────────────────────────────┼────────────────────────┼───────────────┤\n",
       "│ dense_23 (<span style=\"color: #0087ff; text-decoration-color: #0087ff\">Dense</span>)                │ ?                      │   <span style=\"color: #00af00; text-decoration-color: #00af00\">0</span> (unbuilt) │\n",
       "├─────────────────────────────────┼────────────────────────┼───────────────┤\n",
       "│ dense_24 (<span style=\"color: #0087ff; text-decoration-color: #0087ff\">Dense</span>)                │ ?                      │   <span style=\"color: #00af00; text-decoration-color: #00af00\">0</span> (unbuilt) │\n",
       "└─────────────────────────────────┴────────────────────────┴───────────────┘\n",
       "</pre>\n"
      ],
      "text/plain": [
       "┏━━━━━━━━━━━━━━━━━━━━━━━━━━━━━━━━━┳━━━━━━━━━━━━━━━━━━━━━━━━┳━━━━━━━━━━━━━━━┓\n",
       "┃\u001b[1m \u001b[0m\u001b[1mLayer (type)                   \u001b[0m\u001b[1m \u001b[0m┃\u001b[1m \u001b[0m\u001b[1mOutput Shape          \u001b[0m\u001b[1m \u001b[0m┃\u001b[1m \u001b[0m\u001b[1m      Param #\u001b[0m\u001b[1m \u001b[0m┃\n",
       "┡━━━━━━━━━━━━━━━━━━━━━━━━━━━━━━━━━╇━━━━━━━━━━━━━━━━━━━━━━━━╇━━━━━━━━━━━━━━━┩\n",
       "│ my_dense_layer_3 (\u001b[38;5;33mMyDenseLayer\u001b[0m) │ ?                      │   \u001b[38;5;34m0\u001b[0m (unbuilt) │\n",
       "├─────────────────────────────────┼────────────────────────┼───────────────┤\n",
       "│ dense_23 (\u001b[38;5;33mDense\u001b[0m)                │ ?                      │   \u001b[38;5;34m0\u001b[0m (unbuilt) │\n",
       "├─────────────────────────────────┼────────────────────────┼───────────────┤\n",
       "│ dense_24 (\u001b[38;5;33mDense\u001b[0m)                │ ?                      │   \u001b[38;5;34m0\u001b[0m (unbuilt) │\n",
       "└─────────────────────────────────┴────────────────────────┴───────────────┘\n"
      ]
     },
     "metadata": {},
     "output_type": "display_data"
    },
    {
     "data": {
      "text/html": [
       "<pre style=\"white-space:pre;overflow-x:auto;line-height:normal;font-family:Menlo,'DejaVu Sans Mono',consolas,'Courier New',monospace\"><span style=\"font-weight: bold\"> Total params: </span><span style=\"color: #00af00; text-decoration-color: #00af00\">20</span> (80.00 B)\n",
       "</pre>\n"
      ],
      "text/plain": [
       "\u001b[1m Total params: \u001b[0m\u001b[38;5;34m20\u001b[0m (80.00 B)\n"
      ]
     },
     "metadata": {},
     "output_type": "display_data"
    },
    {
     "data": {
      "text/html": [
       "<pre style=\"white-space:pre;overflow-x:auto;line-height:normal;font-family:Menlo,'DejaVu Sans Mono',consolas,'Courier New',monospace\"><span style=\"font-weight: bold\"> Trainable params: </span><span style=\"color: #00af00; text-decoration-color: #00af00\">20</span> (80.00 B)\n",
       "</pre>\n"
      ],
      "text/plain": [
       "\u001b[1m Trainable params: \u001b[0m\u001b[38;5;34m20\u001b[0m (80.00 B)\n"
      ]
     },
     "metadata": {},
     "output_type": "display_data"
    },
    {
     "data": {
      "text/html": [
       "<pre style=\"white-space:pre;overflow-x:auto;line-height:normal;font-family:Menlo,'DejaVu Sans Mono',consolas,'Courier New',monospace\"><span style=\"font-weight: bold\"> Non-trainable params: </span><span style=\"color: #00af00; text-decoration-color: #00af00\">0</span> (0.00 B)\n",
       "</pre>\n"
      ],
      "text/plain": [
       "\u001b[1m Non-trainable params: \u001b[0m\u001b[38;5;34m0\u001b[0m (0.00 B)\n"
      ]
     },
     "metadata": {},
     "output_type": "display_data"
    }
   ],
   "source": [
    "# the predefined model corresponding to the above image is as follows\n",
    "n=4\n",
    "model = tf.keras.Sequential(\n",
    "    [\n",
    "        tf.keras.layers.Dense(n),\n",
    "        tf.keras.layers.Dense(2)\n",
    "    ]\n",
    ")\n",
    "# we can modify aspects of each layer like, activation function, kernel initializer, bias initializer, etc\n",
    "model.summary()\n",
    "model2 = tf.keras.Sequential(\n",
    "    [\n",
    "        MyDenseLayer(n,n),\n",
    "        tf.keras.layers.Dense(n),\n",
    "        tf.keras.layers.Dense(2)\n",
    "    ]\n",
    ")\n",
    "model2.summary()\n"
   ]
  },
  {
   "cell_type": "markdown",
   "metadata": {},
   "source": [
    "\n",
    "<style>\n",
    "@import url('https://fonts.googleapis.com/css2?family=Poppins:wght@400&display=swap');\n",
    ".poppins-font {\n",
    "    font-family: 'Poppins', sans-serif;\n",
    "    font-size: 20px;\n",
    "}\n",
    "</style>\n",
    "<div class=\"poppins-font\">Now, we have designed simple neural networks, multilayers with custom layers too</br> <font color=\"cyan\">now lets dive into deep neural networks</div>\n",
    "\n",
    "<a href=\"https://ibb.co/PcmLHX0\"><img src=\"https://i.ibb.co/bsW09wD/image.png\" alt=\"image\" border=\"0\"></a>"
   ]
  },
  {
   "cell_type": "code",
   "execution_count": 12,
   "metadata": {},
   "outputs": [
    {
     "data": {
      "text/html": [
       "<pre style=\"white-space:pre;overflow-x:auto;line-height:normal;font-family:Menlo,'DejaVu Sans Mono',consolas,'Courier New',monospace\"><span style=\"font-weight: bold\">Model: \"sequential_10\"</span>\n",
       "</pre>\n"
      ],
      "text/plain": [
       "\u001b[1mModel: \"sequential_10\"\u001b[0m\n"
      ]
     },
     "metadata": {},
     "output_type": "display_data"
    },
    {
     "data": {
      "text/html": [
       "<pre style=\"white-space:pre;overflow-x:auto;line-height:normal;font-family:Menlo,'DejaVu Sans Mono',consolas,'Courier New',monospace\">┏━━━━━━━━━━━━━━━━━━━━━━━━━━━━━━━━━┳━━━━━━━━━━━━━━━━━━━━━━━━┳━━━━━━━━━━━━━━━┓\n",
       "┃<span style=\"font-weight: bold\"> Layer (type)                    </span>┃<span style=\"font-weight: bold\"> Output Shape           </span>┃<span style=\"font-weight: bold\">       Param # </span>┃\n",
       "┡━━━━━━━━━━━━━━━━━━━━━━━━━━━━━━━━━╇━━━━━━━━━━━━━━━━━━━━━━━━╇━━━━━━━━━━━━━━━┩\n",
       "│ dense_28 (<span style=\"color: #0087ff; text-decoration-color: #0087ff\">Dense</span>)                │ ?                      │   <span style=\"color: #00af00; text-decoration-color: #00af00\">0</span> (unbuilt) │\n",
       "├─────────────────────────────────┼────────────────────────┼───────────────┤\n",
       "│ dense_29 (<span style=\"color: #0087ff; text-decoration-color: #0087ff\">Dense</span>)                │ ?                      │   <span style=\"color: #00af00; text-decoration-color: #00af00\">0</span> (unbuilt) │\n",
       "├─────────────────────────────────┼────────────────────────┼───────────────┤\n",
       "│ dense_30 (<span style=\"color: #0087ff; text-decoration-color: #0087ff\">Dense</span>)                │ ?                      │   <span style=\"color: #00af00; text-decoration-color: #00af00\">0</span> (unbuilt) │\n",
       "├─────────────────────────────────┼────────────────────────┼───────────────┤\n",
       "│ dense_31 (<span style=\"color: #0087ff; text-decoration-color: #0087ff\">Dense</span>)                │ ?                      │   <span style=\"color: #00af00; text-decoration-color: #00af00\">0</span> (unbuilt) │\n",
       "└─────────────────────────────────┴────────────────────────┴───────────────┘\n",
       "</pre>\n"
      ],
      "text/plain": [
       "┏━━━━━━━━━━━━━━━━━━━━━━━━━━━━━━━━━┳━━━━━━━━━━━━━━━━━━━━━━━━┳━━━━━━━━━━━━━━━┓\n",
       "┃\u001b[1m \u001b[0m\u001b[1mLayer (type)                   \u001b[0m\u001b[1m \u001b[0m┃\u001b[1m \u001b[0m\u001b[1mOutput Shape          \u001b[0m\u001b[1m \u001b[0m┃\u001b[1m \u001b[0m\u001b[1m      Param #\u001b[0m\u001b[1m \u001b[0m┃\n",
       "┡━━━━━━━━━━━━━━━━━━━━━━━━━━━━━━━━━╇━━━━━━━━━━━━━━━━━━━━━━━━╇━━━━━━━━━━━━━━━┩\n",
       "│ dense_28 (\u001b[38;5;33mDense\u001b[0m)                │ ?                      │   \u001b[38;5;34m0\u001b[0m (unbuilt) │\n",
       "├─────────────────────────────────┼────────────────────────┼───────────────┤\n",
       "│ dense_29 (\u001b[38;5;33mDense\u001b[0m)                │ ?                      │   \u001b[38;5;34m0\u001b[0m (unbuilt) │\n",
       "├─────────────────────────────────┼────────────────────────┼───────────────┤\n",
       "│ dense_30 (\u001b[38;5;33mDense\u001b[0m)                │ ?                      │   \u001b[38;5;34m0\u001b[0m (unbuilt) │\n",
       "├─────────────────────────────────┼────────────────────────┼───────────────┤\n",
       "│ dense_31 (\u001b[38;5;33mDense\u001b[0m)                │ ?                      │   \u001b[38;5;34m0\u001b[0m (unbuilt) │\n",
       "└─────────────────────────────────┴────────────────────────┴───────────────┘\n"
      ]
     },
     "metadata": {},
     "output_type": "display_data"
    },
    {
     "data": {
      "text/html": [
       "<pre style=\"white-space:pre;overflow-x:auto;line-height:normal;font-family:Menlo,'DejaVu Sans Mono',consolas,'Courier New',monospace\"><span style=\"font-weight: bold\"> Total params: </span><span style=\"color: #00af00; text-decoration-color: #00af00\">0</span> (0.00 B)\n",
       "</pre>\n"
      ],
      "text/plain": [
       "\u001b[1m Total params: \u001b[0m\u001b[38;5;34m0\u001b[0m (0.00 B)\n"
      ]
     },
     "metadata": {},
     "output_type": "display_data"
    },
    {
     "data": {
      "text/html": [
       "<pre style=\"white-space:pre;overflow-x:auto;line-height:normal;font-family:Menlo,'DejaVu Sans Mono',consolas,'Courier New',monospace\"><span style=\"font-weight: bold\"> Trainable params: </span><span style=\"color: #00af00; text-decoration-color: #00af00\">0</span> (0.00 B)\n",
       "</pre>\n"
      ],
      "text/plain": [
       "\u001b[1m Trainable params: \u001b[0m\u001b[38;5;34m0\u001b[0m (0.00 B)\n"
      ]
     },
     "metadata": {},
     "output_type": "display_data"
    },
    {
     "data": {
      "text/html": [
       "<pre style=\"white-space:pre;overflow-x:auto;line-height:normal;font-family:Menlo,'DejaVu Sans Mono',consolas,'Courier New',monospace\"><span style=\"font-weight: bold\"> Non-trainable params: </span><span style=\"color: #00af00; text-decoration-color: #00af00\">0</span> (0.00 B)\n",
       "</pre>\n"
      ],
      "text/plain": [
       "\u001b[1m Non-trainable params: \u001b[0m\u001b[38;5;34m0\u001b[0m (0.00 B)\n"
      ]
     },
     "metadata": {},
     "output_type": "display_data"
    }
   ],
   "source": [
    "# Define the number of input features\n",
    "input_dim = n\n",
    "\n",
    "# Create a new Deep Sequential model\n",
    "deep_model = tf.keras.Sequential([\n",
    "    tf.keras.layers.Dense(n),\n",
    "    tf.keras.layers.Dense(n),\n",
    "    tf.keras.layers.Dense(n),\n",
    "    # .\n",
    "    # .\n",
    "    # .\n",
    "    tf.keras.layers.Dense(2)\n",
    "])\n",
    "\n",
    "# Print the model summary\n",
    "deep_model.summary()"
   ]
  }
 ],
 "metadata": {
  "kernelspec": {
   "display_name": "CPU2",
   "language": "python",
   "name": "python3"
  },
  "language_info": {
   "codemirror_mode": {
    "name": "ipython",
    "version": 3
   },
   "file_extension": ".py",
   "mimetype": "text/x-python",
   "name": "python",
   "nbconvert_exporter": "python",
   "pygments_lexer": "ipython3",
   "version": "3.12.7"
  }
 },
 "nbformat": 4,
 "nbformat_minor": 2
}
