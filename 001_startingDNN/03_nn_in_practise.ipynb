{
 "cells": [
  {
   "cell_type": "markdown",
   "metadata": {},
   "source": [
    "Training is hard, optimization is totally different story"
   ]
  },
  {
   "cell_type": "markdown",
   "metadata": {},
   "source": [
    "computationally its too hard\n",
    "<a href=\"https://ibb.co/1GZVm5s\"><img src=\"https://i.ibb.co/k2KnSf3/image.png\" alt=\"image\" border=\"0\"></a>\n"
   ]
  },
  {
   "cell_type": "markdown",
   "metadata": {},
   "source": [
    "u start in bad place, u dead\n",
    "## To solve this\n",
    "- we can do some optimization technique to traverse the local minimas to global minima\n",
    "- make nn which has good landscape, which are more smoother\n",
    "## $n$ is the learning rate which also needs proper tuning\n",
    "- if its too small , it can get stuck in local minimas/ false local minima\n",
    "- if its too big, it overshoots \n"
   ]
  }
 ],
 "metadata": {
  "language_info": {
   "name": "python"
  }
 },
 "nbformat": 4,
 "nbformat_minor": 2
}
