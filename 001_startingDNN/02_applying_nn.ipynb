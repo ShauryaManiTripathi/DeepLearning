{
 "cells": [
  {
   "cell_type": "markdown",
   "metadata": {},
   "source": [
    "<style>\n",
    "    @import url('https://fonts.googleapis.com/css2?family=Poppins:wght@400&display=swap');\n",
    "    .poppins-font {\n",
    "        font-family: 'Poppins', sans-serif;\n",
    "        font-size: 20px;\n",
    "    }\n",
    "</style>\n",
    "<div class=\"poppins-font\">Now lets apply NN</div>"
   ]
  },
  {
   "cell_type": "markdown",
   "metadata": {},
   "source": []
  }
 ],
 "metadata": {
  "language_info": {
   "name": "python"
  }
 },
 "nbformat": 4,
 "nbformat_minor": 2
}
