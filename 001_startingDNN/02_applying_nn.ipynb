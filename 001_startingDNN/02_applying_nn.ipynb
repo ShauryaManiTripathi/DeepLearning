{
 "cells": [
  {
   "cell_type": "markdown",
   "metadata": {},
   "source": [
    "<style>\n",
    "    @import url('https://fonts.googleapis.com/css2?family=Poppins:wght@400&display=swap');\n",
    "    .poppins-font {\n",
    "        font-family: 'Poppins', sans-serif;\n",
    "        font-size: 20px;\n",
    "    }\n",
    "</style>\n",
    "<div class=\"poppins-font\">We developed the basic understanding so far</div>\n",
    "<div class=\"poppins-font\">Now lets apply NN</div>\n",
    "\n",
    "Will i pass this subject??</br>\n",
    "input [x1,x2],</br>\n",
    "x1=no of hours of lectures attended\n",
    "x2=no of hours of project\n",
    "\n",
    "\n",
    "suppose for input 4,5 the output is 1\n",
    "but our model predicted 0.1\n",
    "\n",
    "### why its terribly wrong???\n",
    "\n",
    "because not trained, un-learnt weights, dont expect because its not trained yet\n",
    "\n",
    "we need to tell it how close its answer is to ground truth, more learning process\n",
    "\n"
   ]
  },
  {
   "cell_type": "markdown",
   "metadata": {},
   "source": [
    "## Loss function\n",
    "<a href=\"https://ibb.co/VYJwnZm\"><img src=\"https://i.ibb.co/gZm4qpV/image.png\" alt=\"image\" border=\"0\"></a>\n",
    "\n",
    "$$\n",
    "\\text{MSE} = \\frac{1}{n} \\sum_{i=1}^{n} (y_i - \\hat{y}_i)^2\n",
    "$$\n",
    "### this loss function is also known as empirical risk or objective function. "
   ]
  }
 ],
 "metadata": {
  "kernelspec": {
   "display_name": "CPU2",
   "language": "python",
   "name": "python3"
  },
  "language_info": {
   "name": "python",
   "version": "3.12.7"
  }
 },
 "nbformat": 4,
 "nbformat_minor": 2
}
